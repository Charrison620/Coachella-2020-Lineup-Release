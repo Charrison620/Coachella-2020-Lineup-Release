{
 "cells": [
  {
   "cell_type": "code",
   "execution_count": 46,
   "metadata": {},
   "outputs": [],
   "source": [
    "import json\n",
    "import datetime\n",
    "\n",
    "def open_file(file_name):\n",
    "    with open(file_name, mode = 'r', encoding = 'utf8') as r:\n",
    "        reader = json.load(r)\n",
    "        lst = []\n",
    "        for tweet_id in reader:\n",
    "            lst.append(str(tweet_id))\n",
    "    return lst"
   ]
  },
  {
   "cell_type": "code",
   "execution_count": 47,
   "metadata": {},
   "outputs": [],
   "source": [
    "#Open Tweet ID's\n",
    "lineup_tweet_list = open_file('#Coachella2020 Lineup.json')"
   ]
  },
  {
   "cell_type": "code",
   "execution_count": 48,
   "metadata": {},
   "outputs": [],
   "source": [
    "from twython import Twython\n",
    "from time import sleep\n",
    "import itertools\n",
    "\n",
    "#consumer_key = add consumer key here\n",
    "#consumer_secret = add consumer secret here\n",
    "#access_token = add access token here\n",
    "#access_token_secret = add access token secret here\n",
    "\n",
    "#twitter = Twython(consumer_key, consumer_secret, access_token, access_token_secret)"
   ]
  },
  {
   "cell_type": "code",
   "execution_count": 49,
   "metadata": {},
   "outputs": [],
   "source": [
    "#twitter allows you to request up to 100 unique tweet ids in a lookup_status request.\n",
    "#function to group by 100 \n",
    "\n",
    "def grouper(iterable, n=100):\n",
    "    it = iter(iterable)\n",
    "    while True:\n",
    "        chunk = list(itertools.islice(it, n))\n",
    "        if not chunk:\n",
    "            return\n",
    "        yield chunk"
   ]
  },
  {
   "cell_type": "code",
   "execution_count": 53,
   "metadata": {},
   "outputs": [],
   "source": [
    "#creating the tweet dictionary.  Using a 1 second sleep timer to not max the rate limit \n",
    "tweets_dict = {}\n",
    "for tweets in grouper(lineup_tweet_list, 100):\n",
    "    rslts = twitter.lookup_status(id=','.join(tweets), tweet_mode='extended')\n",
    "    for tweet in rslts:\n",
    "        tweets_dict[tweet['id']] = tweet\n",
    "    sleep(1)"
   ]
  },
  {
   "cell_type": "code",
   "execution_count": 74,
   "metadata": {
    "scrolled": false
   },
   "outputs": [
    {
     "name": "stdout",
     "output_type": "stream",
     "text": [
      "RT @BB_Kings_Legend: At the end of the day no matter what y'all say BIGBANG IS THE FIRST BOYGROUP TO PERFORM IN #Coachella2020 NOT YOUR OPP…\n",
      "\n",
      "RT @dannyelfman: I guess the cat is out of the bag. @coachella 2020!\n",
      "\n",
      "Danny Elfman… Past, Present and Future! From Boingo to Batman and Bey…\n",
      "\n",
      "RT @youtubemusic: Let the countdown begin, we're coming for you @Coachella! Check out the official playlist #Coachella2020: The Lineup, and…\n",
      "\n",
      "My New Years resolution is to have enough money to got to Coachella 2021 😫😫😭😂❤️ #coachella2020 https://t.co/BdgVJcRB2I\n",
      "\n",
      "RT @MisterPreda: the gays win yet again 🌈😭🥂#Coachella2020 https://t.co/PIlUhJp4Pc\n",
      "\n",
      "RT @jinuphiIic: MY COUSINS ARE GOING TO #Coachella2020 SEE #BIGBANG!!!!! kaso boards ko yan 💔😭\n",
      "\n",
      "RT @BB_Kings_Legend: At the end of the day no matter what y'all say BIGBANG IS THE FIRST BOYGROUP TO PERFORM IN #Coachella2020 NOT YOUR OPP…\n",
      "\n",
      "Things that don’t matter but people will make a big deal about: #Coachella2020\n",
      "\n",
      "RT @Salute_MAB: I’m finally going to be able to sing this live!!! #Coachella2020 https://t.co/5RFumKmOKz\n",
      "\n",
      "That's Bullshit ‼️‼️‼️ #SugarRay Should Be On That List 🎶🎶🎶\n",
      "#Coachella2020  @mark_mcgrath https://t.co/1ahCIKtVPM\n",
      "\n"
     ]
    }
   ],
   "source": [
    "#sample tweets\n",
    "tweet_ids = list(tweets_dict.keys())\n",
    "\n",
    "for i in tweet_ids[:20]:\n",
    "    if tweets_dict[i]['lang'] == 'en':\n",
    "        print(tweets_dict[i]['full_text'])\n",
    "        print()"
   ]
  },
  {
   "cell_type": "code",
   "execution_count": null,
   "metadata": {},
   "outputs": [],
   "source": []
  }
 ],
 "metadata": {
  "kernelspec": {
   "display_name": "Python 3",
   "language": "python",
   "name": "python3"
  },
  "language_info": {
   "codemirror_mode": {
    "name": "ipython",
    "version": 3
   },
   "file_extension": ".py",
   "mimetype": "text/x-python",
   "name": "python",
   "nbconvert_exporter": "python",
   "pygments_lexer": "ipython3",
   "version": "3.7.3"
  }
 },
 "nbformat": 4,
 "nbformat_minor": 2
}
